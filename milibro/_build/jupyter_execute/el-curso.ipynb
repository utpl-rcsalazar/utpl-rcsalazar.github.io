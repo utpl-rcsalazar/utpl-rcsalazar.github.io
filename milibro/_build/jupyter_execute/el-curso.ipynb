{
 "cells": [
  {
   "cell_type": "markdown",
   "id": "88a73330",
   "metadata": {},
   "source": [
    "# El Curso\n",
    "\n",
    "Desarrollo de plataformas web, es una materia apasionante, que nos permitirá\n",
    "aprender sobre tecnologías de punta y que son actualmente muy utilizadas. \n",
    "Las tecnologías actuales han facilitado que los servicios informaticos sean \n",
    "bastante automaticos, lo que facilita la creación de diferentes programas de \n",
    "manera mas simple."
   ]
  }
 ],
 "metadata": {
  "jupytext": {
   "formats": "md:myst",
   "text_representation": {
    "extension": ".md",
    "format_name": "myst",
    "format_version": 0.13,
    "jupytext_version": "1.11.5"
   }
  },
  "kernelspec": {
   "display_name": "Python 3",
   "language": "python",
   "name": "python3"
  },
  "language_info": {
   "codemirror_mode": {
    "name": "ipython",
    "version": 3
   },
   "file_extension": ".py",
   "mimetype": "text/x-python",
   "name": "python",
   "nbconvert_exporter": "python",
   "pygments_lexer": "ipython3",
   "version": "3.12.0"
  },
  "source_map": [
   13
  ]
 },
 "nbformat": 4,
 "nbformat_minor": 5
}