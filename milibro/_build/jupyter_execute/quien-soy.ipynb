{
 "cells": [
  {
   "cell_type": "markdown",
   "id": "82ffe424",
   "metadata": {},
   "source": [
    "# Quien Soy\n",
    "\n",
    "Soy Roberto Salazar, estudiante de Informatica de UTPL, apasionado por\n",
    "la Tecnologia, actualmente trabajo en todo lo referente a Sistemas. Me gusta\n",
    "la autoinvestigación, lo que me ha llevado a conocer diversos programas que \n",
    "me han ayudado a crear varios productos a los cuales doy soporte a varias \n",
    "empresas."
   ]
  }
 ],
 "metadata": {
  "jupytext": {
   "formats": "md:myst",
   "text_representation": {
    "extension": ".md",
    "format_name": "myst",
    "format_version": 0.13,
    "jupytext_version": "1.11.5"
   }
  },
  "kernelspec": {
   "display_name": "Python 3",
   "language": "python",
   "name": "python3"
  },
  "language_info": {
   "codemirror_mode": {
    "name": "ipython",
    "version": 3
   },
   "file_extension": ".py",
   "mimetype": "text/x-python",
   "name": "python",
   "nbconvert_exporter": "python",
   "pygments_lexer": "ipython3",
   "version": "3.12.0"
  },
  "source_map": [
   13
  ]
 },
 "nbformat": 4,
 "nbformat_minor": 5
}