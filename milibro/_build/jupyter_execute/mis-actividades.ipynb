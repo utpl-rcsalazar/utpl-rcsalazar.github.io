{
 "cells": [
  {
   "cell_type": "markdown",
   "id": "b7ff2099",
   "metadata": {},
   "source": [
    "# Mis Actividades\n",
    "\n",
    "Me desenvuelvo en el mundo de las TICS,  el software libre y \n",
    "actualmente la nube. A nivel personal me gusta pasar en familia y \n",
    "gusto mucho de la buena comida."
   ]
  }
 ],
 "metadata": {
  "jupytext": {
   "formats": "md:myst",
   "text_representation": {
    "extension": ".md",
    "format_name": "myst",
    "format_version": 0.13,
    "jupytext_version": "1.11.5"
   }
  },
  "kernelspec": {
   "display_name": "Python 3",
   "language": "python",
   "name": "python3"
  },
  "language_info": {
   "codemirror_mode": {
    "name": "ipython",
    "version": 3
   },
   "file_extension": ".py",
   "mimetype": "text/x-python",
   "name": "python",
   "nbconvert_exporter": "python",
   "pygments_lexer": "ipython3",
   "version": "3.12.0"
  },
  "source_map": [
   13
  ]
 },
 "nbformat": 4,
 "nbformat_minor": 5
}